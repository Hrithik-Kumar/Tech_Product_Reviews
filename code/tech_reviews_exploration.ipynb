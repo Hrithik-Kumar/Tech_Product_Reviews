{
 "cells": [
  {
   "cell_type": "code",
   "execution_count": 1,
   "metadata": {},
   "outputs": [],
   "source": [
    "import pandas as pd"
   ]
  },
  {
   "cell_type": "code",
   "execution_count": 22,
   "metadata": {},
   "outputs": [],
   "source": [
    "!wget https://www.dropbox.com/s/hxs7bm2pki5nez0/tech-reviews.csv -o tech-reviews.csv"
   ]
  },
  {
   "cell_type": "code",
   "execution_count": 2,
   "metadata": {},
   "outputs": [],
   "source": [
    "df = pd.read_csv(\"../data/tech-reviews.csv\", parse_dates=[\"date\"])"
   ]
  },
  {
   "cell_type": "code",
   "execution_count": 3,
   "metadata": {},
   "outputs": [
    {
     "data": {
      "text/html": [
       "<div>\n",
       "<style scoped>\n",
       "    .dataframe tbody tr th:only-of-type {\n",
       "        vertical-align: middle;\n",
       "    }\n",
       "\n",
       "    .dataframe tbody tr th {\n",
       "        vertical-align: top;\n",
       "    }\n",
       "\n",
       "    .dataframe thead th {\n",
       "        text-align: right;\n",
       "    }\n",
       "</style>\n",
       "<table border=\"1\" class=\"dataframe\">\n",
       "  <thead>\n",
       "    <tr style=\"text-align: right;\">\n",
       "      <th></th>\n",
       "      <th>_id</th>\n",
       "      <th>score</th>\n",
       "      <th>publication</th>\n",
       "      <th>category</th>\n",
       "      <th>article</th>\n",
       "      <th>author</th>\n",
       "      <th>date</th>\n",
       "      <th>title</th>\n",
       "    </tr>\n",
       "  </thead>\n",
       "  <tbody>\n",
       "    <tr>\n",
       "      <th>0</th>\n",
       "      <td>https://www.techradar.com/reviews/razer-opus</td>\n",
       "      <td>4.5</td>\n",
       "      <td>TechRadar</td>\n",
       "      <td>Audio Visual</td>\n",
       "      <td>The Razer Opus is Razer's first foray into a n...</td>\n",
       "      <td>Bill Thomas</td>\n",
       "      <td>2020-05-19 00:00:00</td>\n",
       "      <td>Razer Opus review</td>\n",
       "    </tr>\n",
       "    <tr>\n",
       "      <th>1</th>\n",
       "      <td>https://www.techradar.com/reviews/huawei-freel...</td>\n",
       "      <td>4.5</td>\n",
       "      <td>TechRadar</td>\n",
       "      <td>Audio Visual</td>\n",
       "      <td>The Huawei FreeLace Pro offer a surprisingly i...</td>\n",
       "      <td>Lee Bell</td>\n",
       "      <td>2020-10-02 00:00:00</td>\n",
       "      <td>Huawei FreeLace Pro review</td>\n",
       "    </tr>\n",
       "    <tr>\n",
       "      <th>2</th>\n",
       "      <td>https://www.techradar.com/reviews/hp-reverb-g2</td>\n",
       "      <td>4.5</td>\n",
       "      <td>TechRadar</td>\n",
       "      <td>Computing</td>\n",
       "      <td>The HP Reverb G2 is easily one of the best VR ...</td>\n",
       "      <td>Matt Hanson</td>\n",
       "      <td>2020-12-21 00:00:00</td>\n",
       "      <td>HP Reverb G2 review</td>\n",
       "    </tr>\n",
       "    <tr>\n",
       "      <th>3</th>\n",
       "      <td>https://www.techradar.com/reviews/sennheiser-a...</td>\n",
       "      <td>4.5</td>\n",
       "      <td>TechRadar</td>\n",
       "      <td>Televisions</td>\n",
       "      <td>It’s seriously expensive, but immersive Dolby ...</td>\n",
       "      <td>Cliff Joseph</td>\n",
       "      <td>2019-07-05 00:00:00</td>\n",
       "      <td>Sennheiser Ambeo 3D Soundbar review</td>\n",
       "    </tr>\n",
       "    <tr>\n",
       "      <th>4</th>\n",
       "      <td>https://www.techradar.com/reviews/arlo-video-d...</td>\n",
       "      <td>4.5</td>\n",
       "      <td>TechRadar</td>\n",
       "      <td>Smart Home</td>\n",
       "      <td>The Arlo Video Doorbell may be cheaper than th...</td>\n",
       "      <td>Christian de Looper</td>\n",
       "      <td>2020-12-30 00:00:00</td>\n",
       "      <td>Arlo Video Doorbell review</td>\n",
       "    </tr>\n",
       "  </tbody>\n",
       "</table>\n",
       "</div>"
      ],
      "text/plain": [
       "                                                 _id  score publication  \\\n",
       "0       https://www.techradar.com/reviews/razer-opus    4.5   TechRadar   \n",
       "1  https://www.techradar.com/reviews/huawei-freel...    4.5   TechRadar   \n",
       "2     https://www.techradar.com/reviews/hp-reverb-g2    4.5   TechRadar   \n",
       "3  https://www.techradar.com/reviews/sennheiser-a...    4.5   TechRadar   \n",
       "4  https://www.techradar.com/reviews/arlo-video-d...    4.5   TechRadar   \n",
       "\n",
       "       category                                            article  \\\n",
       "0  Audio Visual  The Razer Opus is Razer's first foray into a n...   \n",
       "1  Audio Visual  The Huawei FreeLace Pro offer a surprisingly i...   \n",
       "2     Computing  The HP Reverb G2 is easily one of the best VR ...   \n",
       "3   Televisions  It’s seriously expensive, but immersive Dolby ...   \n",
       "4    Smart Home  The Arlo Video Doorbell may be cheaper than th...   \n",
       "\n",
       "                author                 date  \\\n",
       "0          Bill Thomas  2020-05-19 00:00:00   \n",
       "1             Lee Bell  2020-10-02 00:00:00   \n",
       "2          Matt Hanson  2020-12-21 00:00:00   \n",
       "3         Cliff Joseph  2019-07-05 00:00:00   \n",
       "4  Christian de Looper  2020-12-30 00:00:00   \n",
       "\n",
       "                                 title  \n",
       "0                    Razer Opus review  \n",
       "1           Huawei FreeLace Pro review  \n",
       "2                  HP Reverb G2 review  \n",
       "3  Sennheiser Ambeo 3D Soundbar review  \n",
       "4           Arlo Video Doorbell review  "
      ]
     },
     "execution_count": 3,
     "metadata": {},
     "output_type": "execute_result"
    }
   ],
   "source": [
    "df.head()"
   ]
  },
  {
   "cell_type": "code",
   "execution_count": 4,
   "metadata": {},
   "outputs": [
    {
     "data": {
      "text/plain": [
       "_id             object\n",
       "score          float64\n",
       "publication     object\n",
       "category        object\n",
       "article         object\n",
       "author          object\n",
       "date            object\n",
       "title           object\n",
       "dtype: object"
      ]
     },
     "execution_count": 4,
     "metadata": {},
     "output_type": "execute_result"
    }
   ],
   "source": [
    "df.dtypes"
   ]
  },
  {
   "cell_type": "code",
   "execution_count": 5,
   "metadata": {},
   "outputs": [
    {
     "name": "stdout",
     "output_type": "stream",
     "text": [
      "Index(['_id', 'score', 'publication', 'category', 'article', 'author', 'date',\n",
      "       'title'],\n",
      "      dtype='object')\n",
      "\n",
      "\n",
      "dataframe shape: (28092, 8) \n",
      "\n",
      "Number of unique values in each cloumn: \n",
      " _id            28092\n",
      "score             63\n",
      "publication        4\n",
      "category        3470\n",
      "article        28077\n",
      "author           721\n",
      "date           12288\n",
      "title          27270\n",
      "dtype: int64\n",
      "\n"
     ]
    }
   ],
   "source": [
    "print(df.columns)\n",
    "print(\"\\n\")\n",
    "print(f'dataframe shape: {df.shape} \\n')\n",
    "print(f'Number of unique values in each cloumn: \\n {df.nunique()}\\n')\n"
   ]
  },
  {
   "cell_type": "code",
   "execution_count": 6,
   "metadata": {},
   "outputs": [
    {
     "data": {
      "text/plain": [
       "_id               0\n",
       "score             0\n",
       "publication       0\n",
       "category       7293\n",
       "article           0\n",
       "author            0\n",
       "date              0\n",
       "title             0\n",
       "dtype: int64"
      ]
     },
     "execution_count": 6,
     "metadata": {},
     "output_type": "execute_result"
    }
   ],
   "source": [
    "df.isnull().sum()"
   ]
  },
  {
   "cell_type": "code",
   "execution_count": 7,
   "metadata": {},
   "outputs": [
    {
     "data": {
      "text/plain": [
       "{'Samsung': 1042,\n",
       " 'Sony': 756,\n",
       " 'Asus': 534,\n",
       " 'HP': 532,\n",
       " 'LG': 501,\n",
       " 'Lenovo': 483,\n",
       " 'Canon': 465,\n",
       " 'Acer': 428,\n",
       " 'Dell': 425,\n",
       " 'Panasonic': 406,\n",
       " 'Epson': 290,\n",
       " 'Apple': 259,\n",
       " 'Amazon': 241,\n",
       " 'Razer': 233,\n",
       " 'Microsoft': 230,\n",
       " 'Nikon': 222,\n",
       " 'Philips': 219,\n",
       " 'Google': 216,\n",
       " 'Huawei': 213,\n",
       " 'Logitech': 196,\n",
       " 'Toshiba': 177,\n",
       " 'MSI': 175,\n",
       " 'Brother': 175,\n",
       " 'BenQ': 173,\n",
       " 'The': 171,\n",
       " 'JBL': 151,\n",
       " 'Fujifilm': 150,\n",
       " 'Garmin': 136,\n",
       " 'AMD': 134,\n",
       " '2019': 131,\n",
       " 'HTC': 130,\n",
       " 'Motorola': 120,\n",
       " 'Nokia': 114,\n",
       " 'Sennheiser': 107,\n",
       " 'Netgear': 106,\n",
       " '2018': 103,\n",
       " 'Bose': 100,\n",
       " 'Olympus': 99,\n",
       " 'Corsair': 99,\n",
       " 'Vizio': 94,\n",
       " 'Xiaomi': 93,\n",
       " '2016': 92,\n",
       " 'Gigabyte': 88,\n",
       " 'Intel': 86,\n",
       " 'Moto': 83,\n",
       " 'Optoma': 82,\n",
       " '2015': 80,\n",
       " 'A': 80,\n",
       " 'Nvidia': 79,\n",
       " 'Pentax': 77,\n",
       " 'Sigma': 77,\n",
       " 'ZTE': 76,\n",
       " 'Alienware': 75,\n",
       " '2017': 75,\n",
       " 'Hisense': 75,\n",
       " 'Oppo': 72,\n",
       " 'Leica': 72,\n",
       " 'D-Link': 71,\n",
       " 'Adobe': 68,\n",
       " 'OnePlus': 67,\n",
       " 'Dyson': 67,\n",
       " 'Honor': 65,\n",
       " 'SteelSeries': 64,\n",
       " 'Fitbit': 63,\n",
       " 'Creative': 63,\n",
       " 'TCL': 61,\n",
       " 'Marshall': 61,\n",
       " 'Yamaha': 61,\n",
       " '2014': 59,\n",
       " 'Linksys': 58,\n",
       " 'TP-Link': 57,\n",
       " 'Alcatel': 56,\n",
       " 'Jabra': 56,\n",
       " 'ViewSonic': 56,\n",
       " 'Denon': 55,\n",
       " 'BlackBerry': 54,\n",
       " 'Plantronics': 54,\n",
       " 'Beats': 53,\n",
       " 'AOC': 53,\n",
       " 'NEC': 53,\n",
       " 'Origin': 52,\n",
       " 'Bowers': 51,\n",
       " 'Roku': 51,\n",
       " 'Synology': 49,\n",
       " 'Seagate': 48,\n",
       " 'Klipsch': 48,\n",
       " 'GoPro': 48,\n",
       " 'Xerox': 47,\n",
       " 'Skullcandy': 47,\n",
       " '2020': 45,\n",
       " 'Cambridge': 45,\n",
       " 'Kyocera': 45,\n",
       " 'Nintendo': 44,\n",
       " 'WD': 44,\n",
       " 'DJI': 44,\n",
       " 'Sharp': 43,\n",
       " 'Anker': 43,\n",
       " 'Turtle': 41,\n",
       " 'GE': 41,\n",
       " 'JVC': 40,\n",
       " 'Roccat': 40,\n",
       " 'Kodak': 39,\n",
       " 'Withings': 39,\n",
       " 'Sonos': 37,\n",
       " 'Harman': 37,\n",
       " 'Pioneer': 37,\n",
       " 'TomTom': 37,\n",
       " 'Nest': 37,\n",
       " 'Audio-Technica': 36,\n",
       " 'iPad': 36,\n",
       " 'Kobo': 35,\n",
       " 'Tamron': 35,\n",
       " 'Polar': 35,\n",
       " 'Belkin': 35,\n",
       " 'HyperX': 35,\n",
       " 'Miele': 34,\n",
       " 'Sage': 34,\n",
       " 'JLab': 34,\n",
       " 'SanDisk': 34,\n",
       " 'Zotac': 33,\n",
       " 'Beyerdynamic': 33,\n",
       " 'Ring': 32,\n",
       " 'Misfit': 32,\n",
       " 'Casio': 32,\n",
       " 'Tefal': 32,\n",
       " 'Polk': 32,\n",
       " 'Monster': 31,\n",
       " 'Jaybird': 31,\n",
       " 'Ricoh': 31,\n",
       " 'RHA': 31,\n",
       " 'Western': 31,\n",
       " 'Libratone': 30,\n",
       " 'Morphy': 30,\n",
       " 'Zoho': 30,\n",
       " 'KitchenAid': 29,\n",
       " 'iPhone': 29,\n",
       " 'Whirlpool': 29,\n",
       " '2013': 29,\n",
       " 'AKG': 29,\n",
       " 'Ultimate': 27,\n",
       " 'Lomography': 27,\n",
       " 'Pure': 27,\n",
       " 'New': 27,\n",
       " 'Xbox': 27,\n",
       " 'Bosch': 27,\n",
       " 'Amped': 27,\n",
       " 'Bang': 27,\n",
       " 'iRobot': 26,\n",
       " 'Facebook': 26,\n",
       " 'Super': 26,\n",
       " 'Russell': 25,\n",
       " 'Viewsonic': 25,\n",
       " 'Urbanears': 25,\n",
       " 'LaCie': 25,\n",
       " 'Kingston': 25,\n",
       " 'Lensbaby': 25,\n",
       " 'Honeywell': 25,\n",
       " 'Parrot': 25,\n",
       " 'Onkyo': 25,\n",
       " 'B&O': 24,\n",
       " 'Arlo': 24,\n",
       " 'Shark': 24,\n",
       " 'Crucial': 24,\n",
       " 'Mad': 24,\n",
       " 'Zeiss': 24,\n",
       " 'Master': 24,\n",
       " 'Blu': 24,\n",
       " 'Shure': 23,\n",
       " 'Q': 23,\n",
       " 'Ninja': 22,\n",
       " 'OKI': 22,\n",
       " 'Final': 22,\n",
       " 'Hotpoint': 22,\n",
       " 'Vax': 22,\n",
       " 'Kenwood': 22,\n",
       " 'ADATA': 22,\n",
       " 'Star': 22,\n",
       " 'Jawbone': 22,\n",
       " 'Wacom': 21,\n",
       " 'Call': 21,\n",
       " 'Focal': 21,\n",
       " 'House': 21,\n",
       " 'InFocus': 21,\n",
       " 'Fuji': 21,\n",
       " 'Cooler': 21,\n",
       " 'Polaroid': 20,\n",
       " 'Braven': 20,\n",
       " 'Kaspersky': 20,\n",
       " 'Maingear': 20,\n",
       " 'MacBook': 20,\n",
       " 'Hoover': 20,\n",
       " 'Bitdefender': 20,\n",
       " 'Pebble': 19,\n",
       " 'Mophie': 19,\n",
       " 'Verizon': 19,\n",
       " 'Lexmark': 19,\n",
       " 'Black': 19,\n",
       " 'V-Moda': 19,\n",
       " 'Digital': 19,\n",
       " 'Fossil': 18,\n",
       " 'Dragon': 18,\n",
       " 'UE': 18,\n",
       " 'Ashampoo': 18,\n",
       " 'Eufy': 18,\n",
       " 'KEF': 18,\n",
       " 'Carl': 18,\n",
       " 'Blue': 18,\n",
       " 'AAXA': 18,\n",
       " 'Bissell': 18,\n",
       " 'Chuwi': 18,\n",
       " 'This': 18,\n",
       " 'Lego': 17,\n",
       " 'Ecovacs': 17,\n",
       " 'Monoprice': 17,\n",
       " 'Astro': 17,\n",
       " 'Edifier': 17,\n",
       " 'Fujitsu': 17,\n",
       " 'G-Technology': 17,\n",
       " 'Pokemon': 17,\n",
       " 'McAfee': 17,\n",
       " 'Kenmore': 17,\n",
       " 'Norton': 17,\n",
       " 'Netatmo': 17,\n",
       " 'Swan': 17,\n",
       " 'Audeze': 17,\n",
       " 'Aorus': 17,\n",
       " 'Rokinon': 16,\n",
       " 'Karcher': 16,\n",
       " 'Realme': 16,\n",
       " 'Neato': 16,\n",
       " 'Falcon': 16,\n",
       " 'Dead': 16,\n",
       " 'Resident': 16,\n",
       " 'Breville': 16,\n",
       " 'Dark': 15,\n",
       " 'Finlux': 15,\n",
       " 'Elgato': 15,\n",
       " 'Trendnet': 15,\n",
       " 'Buffalo': 15,\n",
       " 'Mario': 15,\n",
       " 'Avira': 15,\n",
       " 'Frigidaire': 14,\n",
       " 'IObit': 14,\n",
       " 'Sphero': 14,\n",
       " 'Mio': 14,\n",
       " 'Windows': 14,\n",
       " 'Oculus': 14,\n",
       " 'FIFA': 14,\n",
       " 'NZXT': 14,\n",
       " 'Android': 14,\n",
       " 'Electrolux': 14,\n",
       " 'Kindle': 14,\n",
       " 'Marantz': 14,\n",
       " 'EVGA': 14,\n",
       " 'BT': 14,\n",
       " 'SoundMagic': 14,\n",
       " 'Urbanista': 13,\n",
       " 'Asustor': 13,\n",
       " 'Velocity': 13,\n",
       " 'Audio': 13,\n",
       " 'PlayStation': 13,\n",
       " 'Dualit': 13,\n",
       " 'Thrustmaster': 13,\n",
       " 'Cree': 13,\n",
       " 'Phase': 13,\n",
       " 'KitSound': 13,\n",
       " 'ASRock': 13,\n",
       " 'Comodo': 13,\n",
       " 'Naim': 13,\n",
       " 'Raspberry': 13,\n",
       " 'Amazfit': 13,\n",
       " 'Performance': 13,\n",
       " 'TiVo': 13,\n",
       " 'Assassin&#8217;s': 12,\n",
       " '1More': 12,\n",
       " '808': 12,\n",
       " 'TicWatch': 12,\n",
       " 'Samyang': 12,\n",
       " 'LEGO': 12,\n",
       " 'Bluesound': 12,\n",
       " 'Humax': 12,\n",
       " 'Stihl': 12,\n",
       " 'Monitor': 12,\n",
       " 'QNAP': 12,\n",
       " 'Roborock': 12,\n",
       " 'Ikea': 12,\n",
       " 'Technics': 12,\n",
       " 'SOL': 12,\n",
       " 'Vodafone': 12,\n",
       " 'SunBriteTV': 12,\n",
       " 'Disney': 12,\n",
       " 'Beko': 12,\n",
       " 'Yahoo': 12,\n",
       " 'Plustek': 12,\n",
       " 'CyberLink': 12,\n",
       " 'Smeg': 12,\n",
       " 'Blackview': 12,\n",
       " 'Metal': 12,\n",
       " 'AVG': 12,\n",
       " 'Halo': 11,\n",
       " 'Yi': 11,\n",
       " 'Adata': 11,\n",
       " 'XYZprinting': 11,\n",
       " 'Divoom': 11,\n",
       " 'Wyze': 11,\n",
       " 'SilverStone': 11,\n",
       " 'VPN': 11,\n",
       " 'Overclockers': 11,\n",
       " 'Hasselblad': 11,\n",
       " 'Audioengine': 11,\n",
       " 'Corel': 11,\n",
       " 'AT&T': 11,\n",
       " 'Trend': 11,\n",
       " 'Gears': 11,\n",
       " 'August': 11,\n",
       " 'Quirky': 11,\n",
       " 'Avast': 11,\n",
       " 'Ulefone': 11,\n",
       " 'Sprint': 10,\n",
       " 'Sapphire': 10,\n",
       " 'Horizon': 10,\n",
       " 'Dymo': 10,\n",
       " 'T-Mobile': 10,\n",
       " 'VuPoint': 10,\n",
       " '1MORE': 10,\n",
       " 'Ruark': 10,\n",
       " 'Cuisinart': 10,\n",
       " 'Altec': 10,\n",
       " 'Surface': 10,\n",
       " 'Sonic': 10,\n",
       " 'Angry': 10,\n",
       " 'Grado': 10,\n",
       " 'GoDaddy': 10,\n",
       " 'Tivoli': 10,\n",
       " 'Devolo': 10,\n",
       " 'Suunto': 10,\n",
       " 'F-Secure': 10,\n",
       " 'Tile': 10,\n",
       " 'Far': 10,\n",
       " 'Adidas': 10,\n",
       " 'Battery': 10,\n",
       " 'Insignia': 10,\n",
       " 'DeLonghi': 10,\n",
       " 'Canary': 10,\n",
       " 'OWC': 10,\n",
       " 'EE': 10,\n",
       " 'Vivitek': 10,\n",
       " 'NERF': 10,\n",
       " 'Plextor': 10,\n",
       " 'Definitive': 10,\n",
       " 'Teclast': 10,\n",
       " 'Cougar': 10,\n",
       " 'Fluance': 10,\n",
       " 'World': 10,\n",
       " 'Aukey': 9,\n",
       " 'PNY': 9,\n",
       " 'Gaggia': 9,\n",
       " 'Nespresso': 9,\n",
       " 'Azulle': 9,\n",
       " 'Gateway': 9,\n",
       " 'Vacuuming': 9,\n",
       " 'Indesit': 9,\n",
       " 'Kwikset': 9,\n",
       " 'Free': 9,\n",
       " 'Anki': 9,\n",
       " 'LittleBits': 9,\n",
       " 'Braun': 9,\n",
       " 'Roberts': 9,\n",
       " 'LeEco': 9,\n",
       " 'Meizu': 9,\n",
       " 'iLife': 9,\n",
       " 'Yale': 9,\n",
       " 'Kingdom': 9,\n",
       " 'Swingline': 9,\n",
       " 'Sky': 9,\n",
       " 'Barnes': 9,\n",
       " 'RingCentral': 9,\n",
       " 'Genius': 9,\n",
       " 'Insta360': 9,\n",
       " 'ESET': 9,\n",
       " 'Medical': 9,\n",
       " 'Shadow': 9,\n",
       " 'Scosche': 9,\n",
       " 'Nanoleaf': 9,\n",
       " 'Lifx': 9,\n",
       " 'Hive': 9,\n",
       " 'PC': 9,\n",
       " 'Forza': 9,\n",
       " 'Eve': 9,\n",
       " 'AVM': 9,\n",
       " 'iDevices': 9,\n",
       " 'Orbitsound': 9,\n",
       " 'Silicon': 9,\n",
       " 'Panda': 9,\n",
       " 'Twitter': 9,\n",
       " 'Das': 9,\n",
       " 'Kogan': 8,\n",
       " 'Tangent': 8,\n",
       " 'Canton': 8,\n",
       " 'John': 8,\n",
       " 'Thermaltake': 8,\n",
       " 'Promise': 8,\n",
       " 'Getac': 8,\n",
       " 'Private': 8,\n",
       " 'Camera,': 8,\n",
       " 'B&amp;O': 8,\n",
       " 'EnGenius': 8,\n",
       " 'TaoTronics': 8,\n",
       " 'CyberPower': 8,\n",
       " '8Bitdo': 8,\n",
       " 'Skype': 8,\n",
       " 'Total': 8,\n",
       " 'Doro': 8,\n",
       " 'iHome': 8,\n",
       " 'Raumfeld': 8,\n",
       " 'LinkedIn': 8,\n",
       " 'Football': 8,\n",
       " 'Cobra': 8,\n",
       " 'Flir': 8,\n",
       " 'LIFX': 8,\n",
       " 'Mushkin': 8,\n",
       " 'Visioneer': 8,\n",
       " 'Chromecast': 8,\n",
       " 'Vorwerk': 8,\n",
       " 'Satechi': 8,\n",
       " 'Destiny': 8,\n",
       " 'Zyxel': 8,\n",
       " 'Hori': 8,\n",
       " 'My': 8,\n",
       " 'TerraMaster': 8,\n",
       " 'Snapchat': 8,\n",
       " 'Grundig': 8,\n",
       " 'Nexus': 8,\n",
       " 'Westinghouse': 8,\n",
       " 'Schlage': 8,\n",
       " 'Need': 8,\n",
       " 'Phiaton': 8,\n",
       " 'ASUS': 8,\n",
       " 'AmazonBasics': 8,\n",
       " 'Ultimaker': 8,\n",
       " 'Runtastic': 8,\n",
       " 'IRIScan': 8,\n",
       " 'Jam': 8,\n",
       " 'Marvel': 8,\n",
       " 'Schenker': 8,\n",
       " 'Iolo': 8,\n",
       " 'Wharfedale': 8,\n",
       " 'QuickBooks': 7,\n",
       " 'PayPal': 7,\n",
       " 'Instant': 7,\n",
       " 'Boxlight': 7,\n",
       " 'Pro-Ject': 7,\n",
       " 'Roth': 7,\n",
       " 'Scout': 7,\n",
       " 'Dropbox': 7,\n",
       " 'Kensington': 7,\n",
       " 'Under': 7,\n",
       " 'Hitachi': 7,\n",
       " 'Jays': 7,\n",
       " 'Hyrule': 7,\n",
       " 'VTech': 7,\n",
       " 'Char-Broil': 7,\n",
       " 'Big': 7,\n",
       " 'Melitta': 7,\n",
       " 'Astell': 7,\n",
       " 'ClamCase': 7,\n",
       " 'Tribit': 7,\n",
       " 'Mozilla': 7,\n",
       " 'Nerf': 7,\n",
       " 'Mortal': 7,\n",
       " 'Rock': 7,\n",
       " 'Asrock': 7,\n",
       " 'Audiofly': 7,\n",
       " 'Dish': 7,\n",
       " 'SAP': 7,\n",
       " 'Fallout': 7,\n",
       " 'Square': 7,\n",
       " 'PES': 7,\n",
       " 'F1': 7,\n",
       " 'Lexar': 7,\n",
       " 'Thinkware': 7,\n",
       " 'ECS': 7,\n",
       " 'RCA': 7,\n",
       " 'Etymotic': 7,\n",
       " 'Batman:': 7,\n",
       " 'EaseUS': 7,\n",
       " 'Webroot': 7,\n",
       " 'Skagen': 7,\n",
       " 'Smart': 7,\n",
       " 'Husqvarna': 7,\n",
       " 'Riva': 7,\n",
       " 'DxO': 7,\n",
       " 'Krups': 7,\n",
       " 'Petcube': 7,\n",
       " 'Voigtlander': 7,\n",
       " 'Madden': 7,\n",
       " 'Cat': 7,\n",
       " 'NBA': 7,\n",
       " 'Michael': 7,\n",
       " 'Sol': 7,\n",
       " 'Doogee': 7,\n",
       " 'KeepSolid': 7,\n",
       " 'Nubia': 7,\n",
       " 'Crock-Pot': 7,\n",
       " 'Elephone': 7,\n",
       " 'Cherry': 7,\n",
       " 'Yuneec': 7,\n",
       " 'Avita': 7,\n",
       " 'Dynaudio': 7,\n",
       " 'CTL': 6,\n",
       " 'Crystal': 6,\n",
       " 'Archos': 6,\n",
       " 'Vine': 6,\n",
       " 'YouTube': 6,\n",
       " 'Life': 6,\n",
       " 'Shopify': 6,\n",
       " 'Polaris': 6,\n",
       " 'Parallels': 6,\n",
       " 'Droid': 6,\n",
       " 'Lakeland': 6,\n",
       " '1&1': 6,\n",
       " 'Vivo': 6,\n",
       " 'Boston': 6,\n",
       " 'HiFiMan': 6,\n",
       " 'Chillblast': 6,\n",
       " 'Watch': 6,\n",
       " 'Devil': 6,\n",
       " 'Lutron': 6,\n",
       " 'Magimix': 6,\n",
       " 'God': 6,\n",
       " 'Swann': 6,\n",
       " 'Yakuza': 6,\n",
       " 'Sophos': 6,\n",
       " 'Onyx': 6,\n",
       " 'Tylt': 6,\n",
       " 'IPVanish': 6,\n",
       " 'Credit': 6,\n",
       " 'Fellowes': 6,\n",
       " 'Battlefield': 6,\n",
       " 'Salesforce': 6,\n",
       " 'Soul': 6,\n",
       " 'Moov': 6,\n",
       " 'Patriot': 6,\n",
       " 'VAIO': 6,\n",
       " 'Apricorn': 6,\n",
       " 'Apogee': 6,\n",
       " 'Xenoblade': 6,\n",
       " 'Transcend': 6,\n",
       " 'Zagg': 6,\n",
       " 'ManageEngine': 6,\n",
       " 'Evernote': 6,\n",
       " 'Formlabs': 6,\n",
       " 'Infosonics': 6,\n",
       " 'EarFun': 6,\n",
       " 'Sengled': 6,\n",
       " 'Martian': 6,\n",
       " 'Pantech': 6,\n",
       " 'TorGuard': 6,\n",
       " 'DrayTek': 6,\n",
       " 'Venus': 6,\n",
       " 'Mobile': 6,\n",
       " 'IBM': 6,\n",
       " 'LSTN': 6,\n",
       " 'Red': 6,\n",
       " 'Honda': 6,\n",
       " 'Pocket': 6,\n",
       " 'Project': 6,\n",
       " 'Penclic': 6,\n",
       " 'Samson': 6,\n",
       " 'Retro-Bit': 6,\n",
       " 'Element': 6,\n",
       " 'Fire': 6,\n",
       " 'Getting': 6,\n",
       " 'Polywell': 6,\n",
       " 'Plugable': 6,\n",
       " 'Keurig': 6,\n",
       " 'Plants': 6,\n",
       " 'Weber': 6,\n",
       " \"Assassin's\": 6,\n",
       " 'Brainwavz': 6,\n",
       " 'Magellan': 6,\n",
       " 'Bonavita': 6,\n",
       " 'Candy': 6,\n",
       " 'PSB': 6,\n",
       " 'Gtech': 6,\n",
       " 'Jitterbug': 6,\n",
       " 'Magix': 6,\n",
       " 'AEG': 6,\n",
       " 'DALI': 6,\n",
       " 'iOS': 6,\n",
       " 'ioSafe': 6,\n",
       " 'Arcam': 6,\n",
       " 'CalDigit': 6,\n",
       " 'Wahoo': 6,\n",
       " 'Tannoy': 6,\n",
       " 'Loupedeck': 6,\n",
       " 'Koss': 5,\n",
       " \"Marvel's\": 5,\n",
       " 'Rocket': 5,\n",
       " 'Living': 5,\n",
       " 'TalkTalk': 5,\n",
       " 'Hide': 5,\n",
       " 'Booq': 5,\n",
       " 'VonHaus': 5,\n",
       " 'Sega': 5,\n",
       " 'Mpow': 5,\n",
       " 'Norman': 5,\n",
       " 'Momentum': 5,\n",
       " 'Mr.': 5,\n",
       " 'iStorage': 5,\n",
       " 'Yelp': 5,\n",
       " 'Vitamix': 5,\n",
       " 'Gunnar': 5,\n",
       " 'Wolfenstein:': 5,\n",
       " 'Acoustic': 5,\n",
       " 'Moshi': 5,\n",
       " 'Moment': 5,\n",
       " 'Rise': 5,\n",
       " 'Digg': 5,\n",
       " 'Eero': 5,\n",
       " 'Pinnacle': 5,\n",
       " 'Ooma': 5,\n",
       " 'Rosewill': 5,\n",
       " 'ADT': 5,\n",
       " 'Ezviz': 5,\n",
       " 'Akitio': 5,\n",
       " 'CyberGhost': 5,\n",
       " 'Lost': 5,\n",
       " 'Kicker': 5,\n",
       " 'Vivint': 5,\n",
       " 'Zmodo': 5,\n",
       " 'Elite': 5,\n",
       " 'OS': 5,\n",
       " 'Whistle': 5,\n",
       " 'TDK': 5,\n",
       " 'Zvox': 5,\n",
       " 'Box': 5,\n",
       " 'Minecraft': 5,\n",
       " 'ZoneAlarm': 5,\n",
       " 'Nescafé': 5,\n",
       " 'Nook': 5,\n",
       " 'Citrix': 5,\n",
       " 'Rode': 5,\n",
       " 'Smarter': 5,\n",
       " 'Animal': 5,\n",
       " 'Doom': 5,\n",
       " 'ExpressVPN': 5,\n",
       " 'Intuit': 5,\n",
       " 'WWE': 5,\n",
       " 'Incipio': 5,\n",
       " 'Nero': 5,\n",
       " 'Simple': 5,\n",
       " 'Alaris': 5,\n",
       " 'PowerA': 5,\n",
       " 'Virgin': 5,\n",
       " 'Nextbase': 5,\n",
       " 'Sonim': 5,\n",
       " 'Skylanders': 5,\n",
       " 'Green': 5,\n",
       " 'Crosley': 5,\n",
       " 'Code': 5,\n",
       " 'EcoXGear': 5,\n",
       " 'AVerMedia': 5,\n",
       " 'Bayonetta': 5,\n",
       " 'Blackmagic': 5,\n",
       " 'Trials': 5,\n",
       " 'TunnelBear': 5,\n",
       " 'Crash': 5,\n",
       " 'Icontrol': 5,\n",
       " 'Wink': 5,\n",
       " 'Liquid': 5,\n",
       " 'Paragon': 5,\n",
       " 'MiniTool': 5,\n",
       " 'Xplore': 5,\n",
       " 'Wileyfox': 5,\n",
       " 'NAD': 5,\n",
       " 'Plume': 5,\n",
       " 'Ubiquiti': 5,\n",
       " 'Fender': 5,\n",
       " 'Hearthstone:': 5,\n",
       " 'Bay': 5,\n",
       " 'Blink': 5,\n",
       " 'Drift': 5,\n",
       " 'Soundcast': 5,\n",
       " 'South': 5,\n",
       " 'Symantec': 5,\n",
       " 'Dirt': 5,\n",
       " 'Servis': 5,\n",
       " 'Lumo': 5,\n",
       " 'Unihertz': 5,\n",
       " 'Rega': 5,\n",
       " 'Bayan': 5,\n",
       " 'OCZ': 5,\n",
       " 'Polti': 5,\n",
       " 'Haier': 5,\n",
       " 'Loewe': 5,\n",
       " 'Camera': 5,\n",
       " 'iSmartAlarm': 5,\n",
       " 'Duolingo': 5,\n",
       " 'Tales': 5,\n",
       " 'Goodmans': 5,\n",
       " 'Apowersoft': 5,\n",
       " 'Datacolor': 5,\n",
       " 'Opera': 5,\n",
       " 'Mega': 5,\n",
       " 'Fiio': 5,\n",
       " 'Original': 5,\n",
       " 'Outpost': 5,\n",
       " 'Planet': 5,\n",
       " 'WiFi': 4,\n",
       " 'avast!': 4,\n",
       " 'First': 4,\n",
       " 'G': 4,\n",
       " 'Geeni': 4,\n",
       " 'FreshBooks': 4,\n",
       " 'Coloud': 4,\n",
       " 'Paper': 4,\n",
       " 'CAT': 4,\n",
       " 'Edimax': 4,\n",
       " 'Instagram': 4,\n",
       " 'Verykool': 4,\n",
       " 'Hamilton': 4,\n",
       " 'Flipboard': 4,\n",
       " 'Slacker': 4,\n",
       " 'Tokina': 4,\n",
       " 'Screen': 4,\n",
       " 'Groov-e': 4,\n",
       " 'Bragi': 4,\n",
       " 'Captain': 4,\n",
       " 'In': 4,\n",
       " 'LastPass': 4,\n",
       " 'Ghost': 4,\n",
       " 'G.Skill': 4,\n",
       " 'Boxx': 4,\n",
       " 'Analogue': 4,\n",
       " 'Medion': 4,\n",
       " 'Circle': 4,\n",
       " 'Blomberg': 4,\n",
       " 'Musical': 4,\n",
       " 'Otone': 4,\n",
       " 'Maxell': 4,\n",
       " 'Mobvoi': 4,\n",
       " 'Rayman': 4,\n",
       " 'Telltale&#8217;s': 4,\n",
       " 'Spin': 4,\n",
       " 'Griffin': 4,\n",
       " 'Happy': 4,\n",
       " 'Metro': 4,\n",
       " 'An': 4,\n",
       " 'Quick': 4,\n",
       " 'Typo': 4,\n",
       " 'Totolink': 4,\n",
       " 'Poly-Control': 4,\n",
       " 'Tempo': 4,\n",
       " 'NutriBullet': 4,\n",
       " 'Game': 4,\n",
       " 'Cut': 4,\n",
       " 'Advanced': 4,\n",
       " 'HubSpot': 4,\n",
       " 'Poptel': 4,\n",
       " 'K7': 4,\n",
       " 'LibreOffice': 4,\n",
       " 'SMS': 4,\n",
       " 'Mailbox': 4,\n",
       " 'VisionTek': 4,\n",
       " 'Ultra': 4,\n",
       " 'V3': 4,\n",
       " 'Staples': 4,\n",
       " '3D': 4,\n",
       " 'Jumper': 4,\n",
       " 'Earin': 4,\n",
       " 'Steelseries': 4,\n",
       " 'Splatoon': 4,\n",
       " 'SimpliSafe': 4,\n",
       " 'Solar': 4,\n",
       " 'Borderlands:': 4,\n",
       " 'Saints': 4,\n",
       " 'Piriform': 4,\n",
       " 'Street': 4,\n",
       " 'ScanSnap': 4,\n",
       " 'Moga': 4,\n",
       " 'iON': 4,\n",
       " 'Kirby': 4,\n",
       " 'Hyperkin': 4,\n",
       " 'DaVinci': 4,\n",
       " 'Minecraft:': 4,\n",
       " 'Emporio': 4,\n",
       " 'Kygo': 4,\n",
       " 'Mionix': 4,\n",
       " 'MLB': 4,\n",
       " 'Damson': 4,\n",
       " 'ELAC': 4,\n",
       " 'Wix': 4,\n",
       " 'Fairphone': 4,\n",
       " 'Great': 4,\n",
       " 'Logi': 4,\n",
       " 'Rollei': 4,\n",
       " 'Dynabook': 4,\n",
       " 'Guardzilla': 4,\n",
       " 'Outdoor': 4,\n",
       " 'Drop': 4,\n",
       " 'Steam': 4,\n",
       " 'Nuu': 4,\n",
       " 'Scan': 4,\n",
       " 'Basis': 4,\n",
       " 'Glyph': 4,\n",
       " 'ProtonVPN': 4,\n",
       " 'iBuyPower': 4,\n",
       " 'Impossible': 4,\n",
       " 'Perfect': 4,\n",
       " 'Arris': 4,\n",
       " '4moms': 4,\n",
       " 'Rachio': 4,\n",
       " 'C': 4,\n",
       " 'Pandigital': 4,\n",
       " 'PDP': 4,\n",
       " 'Tony': 4,\n",
       " 'Fisher-Price': 4,\n",
       " 'Steganos': 4,\n",
       " 'Audeara': 4,\n",
       " 'PowerColor': 4,\n",
       " 'Pro': 4,\n",
       " 'MakerBot': 4,\n",
       " 'Golden': 4,\n",
       " 'Grand': 4,\n",
       " 'Naruto': 4,\n",
       " 'Beelink': 4,\n",
       " 'Diesel': 4,\n",
       " 'Lorex': 4,\n",
       " 'EOZ': 4,\n",
       " 'Kami': 4,\n",
       " 'Tiny': 4,\n",
       " 'Grace': 4,\n",
       " 'Utilitech': 4,\n",
       " 'Freedom': 4,\n",
       " 'RPG': 4,\n",
       " 'NordVPN': 4,\n",
       " 'Ember': 4,\n",
       " 'Peloton': 4,\n",
       " 'Orbit': 4,\n",
       " 'PureVPN': 4,\n",
       " 'Status': 4,\n",
       " 'Xiro': 4,\n",
       " 'Nextbit': 4,\n",
       " 'Hightail': 4,\n",
       " 'onn.': 4,\n",
       " 'Marvel&#8217;s': 4,\n",
       " 'BlueParrott': 4,\n",
       " 'VSDC': 4,\n",
       " 'Manfrotto': 4,\n",
       " 'Eclipse': 4,\n",
       " 'Zendesk': 4,\n",
       " 'TicPods': 4,\n",
       " 'iClever': 4,\n",
       " 'DreamHost': 4,\n",
       " 'Little': 4,\n",
       " 'Noble': 4,\n",
       " 'Essential': 4,\n",
       " 'Anthem': 4,\n",
       " 'Nutri': 4,\n",
       " 'GHD': 4,\n",
       " 'Borderlands': 4,\n",
       " 'Startech': 4,\n",
       " 'Hot': 4,\n",
       " 'MeacoFan': 4,\n",
       " 'Siemens': 4,\n",
       " 'Vive': 4,\n",
       " 'Cello': 4,\n",
       " 'Netflix': 4,\n",
       " 'Thecus': 4,\n",
       " 'Sandisk': 3,\n",
       " 'Get': 3,\n",
       " 'Eurocom': 3,\n",
       " 'Pokémon': 3,\n",
       " 'iPod': 3,\n",
       " 'Assassin’s': 3,\n",
       " 'Flic': 3,\n",
       " 'B&amp;W': 3,\n",
       " 'Manhattan': 3,\n",
       " 'Wolf': 3,\n",
       " 'Emsisoft': 3,\n",
       " 'Puma': 3,\n",
       " 'Epic': 3,\n",
       " 'Nimble': 3,\n",
       " 'Oki': 3,\n",
       " 'Ticwatch': 3,\n",
       " 'Wicked': 3,\n",
       " 'Mixcder': 3,\n",
       " 'De&#8217;Longhi': 3,\n",
       " 'Oral-B': 3,\n",
       " 'Until': 3,\n",
       " 'XCOM:': 3,\n",
       " 'Professor': 3,\n",
       " 'Persona': 3,\n",
       " 'Pikmin': 3,\n",
       " 'Colgate': 3,\n",
       " 'Teamwork': 3,\n",
       " 'Temple': 3,\n",
       " 'StarCraft': 3,\n",
       " 'Shinola': 3,\n",
       " 'River': 3,\n",
       " 'Pantum': 3,\n",
       " 'Payday': 3,\n",
       " 'PhoneSuit': 3,\n",
       " 'Alert1': 3,\n",
       " 'LifeStation': 3,\n",
       " 'Our': 3,\n",
       " 'MobileHelp': 3,\n",
       " 'Lumosity': 3,\n",
       " 'Slingshot': 3,\n",
       " 'Nyne': 3,\n",
       " 'Modern': 3,\n",
       " 'GoGroove': 3,\n",
       " 'Wunderlist': 3,\n",
       " 'Crackle': 3,\n",
       " 'Pipo': 3,\n",
       " 'Lytro': 3,\n",
       " 'Integral': 3,\n",
       " 'iMac': 3,\n",
       " 'Kia': 3,\n",
       " 'Starbucks': 3,\n",
       " 'Bolt': 3,\n",
       " 'Sylvania': 3,\n",
       " 'Tesco': 3,\n",
       " 'Anova': 3,\n",
       " 'Contour': 3,\n",
       " 'Pivotal': 3,\n",
       " 'ZyXel': 3,\n",
       " 'Kinivo': 3,\n",
       " 'Telstra': 3,\n",
       " 'Ubuntu': 3,\n",
       " 'BACtrack': 3,\n",
       " 'Waze': 3,\n",
       " 'Shazam': 3,\n",
       " 'Seiki': 3,\n",
       " 'Foursquare': 3,\n",
       " 'Toyota': 3,\n",
       " 'SpotCam': 3,\n",
       " \"It's\": 3,\n",
       " 'Acura': 3,\n",
       " 'Serif': 3,\n",
       " 'Valve': 3,\n",
       " 'Office': 3,\n",
       " '2012': 3,\n",
       " 'Portal': 3,\n",
       " 'Gourmia': 3,\n",
       " 'Kuna': 3,\n",
       " 'Viber': 3,\n",
       " 'Adonit': 3,\n",
       " 'Paradigm': 3,\n",
       " '360fly': 3,\n",
       " 'Mac': 3,\n",
       " 'Nyrius': 3,\n",
       " 'Flappy': 3,\n",
       " 'Blade': 3,\n",
       " 'Walmart': 3,\n",
       " 'Data': 3,\n",
       " 'RemotePC': 3,\n",
       " 'Dayton': 3,\n",
       " 'Fizzics': 3,\n",
       " 'Remington': 3,\n",
       " 'YotaPhone': 3,\n",
       " 'Dacor': 3,\n",
       " 'Sensoria': 3,\n",
       " 'TeamViewer': 3,\n",
       " 'Monument': 3,\n",
       " 'Channel': 3,\n",
       " 'Roost': 3,\n",
       " 'Mass': 3,\n",
       " 'Vaio': 3,\n",
       " 'Vivaldi': 3,\n",
       " 'Spybot': 3,\n",
       " 'TaxSlayer': 3,\n",
       " 'Axis': 3,\n",
       " 'Bluesmart': 3,\n",
       " 'Antlion': 3,\n",
       " 'Maximus': 3,\n",
       " 'Igloo': 3,\n",
       " 'Audi': 3,\n",
       " 'MacPhun': 3,\n",
       " 'Drobo': 3,\n",
       " 'NuForce': 3,\n",
       " 'SpiderOak': 3,\n",
       " '8x8': 3,\n",
       " 'PicoBrew': 3,\n",
       " 'OtterBox': 3,\n",
       " 'Vegas': 3,\n",
       " 'Livescribe': 3,\n",
       " 'Wondershare': 3,\n",
       " 'Motiv': 3,\n",
       " 'Oxo': 3,\n",
       " 'iHeartRadio': 3,\n",
       " 'Aura': 3,\n",
       " 'SkyBell': 3,\n",
       " 'Air': 3,\n",
       " 'Summer': 3,\n",
       " 'Ray': 3,\n",
       " 'Emerson': 3,\n",
       " 'Puro': 3,\n",
       " 'VonShef': 3,\n",
       " ...}"
      ]
     },
     "execution_count": 7,
     "metadata": {},
     "output_type": "execute_result"
    }
   ],
   "source": [
    "df['brand'] = df['title'].str.split().str[0]\n",
    "dict(df[\"brand\"].value_counts())"
   ]
  },
  {
   "cell_type": "code",
   "execution_count": 8,
   "metadata": {},
   "outputs": [],
   "source": [
    "df['category'] = df['category'].str.lower()"
   ]
  },
  {
   "cell_type": "code",
   "execution_count": 9,
   "metadata": {},
   "outputs": [],
   "source": [
    "individual_categories = [category for category in df['category'].dropna() if '[' not in category]\n",
    "individual_categories = set(individual_categories)\n",
    "individual_categories.update({\"kitchen and household\",\"auto tech\",\"laptops\", 'printers','desktop pcs','projectors','monitors','scanners','keyboards','security'})"
   ]
  },
  {
   "cell_type": "code",
   "execution_count": 10,
   "metadata": {},
   "outputs": [
    {
     "data": {
      "text/plain": [
       "{'appliances',\n",
       " 'audio visual',\n",
       " 'auto tech',\n",
       " 'cameras',\n",
       " 'car tech',\n",
       " 'celulares',\n",
       " 'components',\n",
       " 'computing',\n",
       " 'desktop pcs',\n",
       " 'entertainment',\n",
       " 'fitness',\n",
       " 'gaming',\n",
       " 'informática',\n",
       " 'keyboards',\n",
       " 'kitchen and household',\n",
       " 'laptops',\n",
       " 'mobile phones',\n",
       " 'monitors',\n",
       " 'networking',\n",
       " 'printers',\n",
       " 'projectors',\n",
       " 'scanners',\n",
       " 'security',\n",
       " 'smart home',\n",
       " 'software',\n",
       " 'tablets',\n",
       " 'televisions',\n",
       " 'televisori',\n",
       " 'wearables'}"
      ]
     },
     "execution_count": 10,
     "metadata": {},
     "output_type": "execute_result"
    }
   ],
   "source": [
    "individual_categories"
   ]
  },
  {
   "cell_type": "code",
   "execution_count": 11,
   "metadata": {},
   "outputs": [],
   "source": [
    "import ast\n",
    "import re\n",
    "\n",
    "def replace_categories(row):\n",
    "    row_category = row['category']\n",
    "    \n",
    "    if pd.isna(row_category):\n",
    "        return row_category\n",
    "\n",
    "    # Check if the category is a single word in individual_categories\n",
    "    if row_category in individual_categories:\n",
    "        return row_category\n",
    "\n",
    "    # Try to evaluate the category as a list\n",
    "    try:\n",
    "        row_list = ast.literal_eval(row_category)\n",
    "    except (SyntaxError, ValueError):\n",
    "        # Handle the case where row_category is not a valid list literal\n",
    "        return None\n",
    "    \n",
    "    # Check if the category matches any individual category\n",
    "    for category in individual_categories:\n",
    "        pattern = r'\\b{}.'.format(category[:3])\n",
    "        if any(re.search(pattern, word) for word in row_list):\n",
    "            return category\n",
    "\n",
    "    # Return the last item in the list, if the list is not empty\n",
    "    if row_list:\n",
    "        return row_list[-1]\n",
    "    \n",
    "    # Return None if the category is an empty list\n",
    "    return None\n"
   ]
  },
  {
   "cell_type": "code",
   "execution_count": 12,
   "metadata": {},
   "outputs": [],
   "source": [
    "df['category'] = df.apply(replace_categories,axis=1)"
   ]
  },
  {
   "cell_type": "code",
   "execution_count": 13,
   "metadata": {},
   "outputs": [
    {
     "data": {
      "text/plain": [
       "array(['TechRadar', 'CNET', 'PCMag', 'Trusted Reviews'], dtype=object)"
      ]
     },
     "execution_count": 13,
     "metadata": {},
     "output_type": "execute_result"
    }
   ],
   "source": [
    "df['publication'].unique()"
   ]
  },
  {
   "cell_type": "code",
   "execution_count": 28,
   "metadata": {},
   "outputs": [
    {
     "name": "stdout",
     "output_type": "stream",
     "text": [
      "Collecting plotly_express\n",
      "  Downloading plotly_express-0.4.1-py2.py3-none-any.whl.metadata (1.7 kB)\n",
      "Requirement already satisfied: pandas>=0.20.0 in /home/hrithik/anaconda3/lib/python3.11/site-packages (from plotly_express) (2.1.4)\n",
      "Requirement already satisfied: plotly>=4.1.0 in /home/hrithik/anaconda3/lib/python3.11/site-packages (from plotly_express) (5.9.0)\n",
      "Requirement already satisfied: statsmodels>=0.9.0 in /home/hrithik/anaconda3/lib/python3.11/site-packages (from plotly_express) (0.14.0)\n",
      "Requirement already satisfied: scipy>=0.18 in /home/hrithik/anaconda3/lib/python3.11/site-packages (from plotly_express) (1.11.4)\n",
      "Requirement already satisfied: patsy>=0.5 in /home/hrithik/anaconda3/lib/python3.11/site-packages (from plotly_express) (0.5.3)\n",
      "Requirement already satisfied: numpy>=1.11 in /home/hrithik/anaconda3/lib/python3.11/site-packages (from plotly_express) (1.26.4)\n",
      "Requirement already satisfied: python-dateutil>=2.8.2 in /home/hrithik/anaconda3/lib/python3.11/site-packages (from pandas>=0.20.0->plotly_express) (2.8.2)\n",
      "Requirement already satisfied: pytz>=2020.1 in /home/hrithik/anaconda3/lib/python3.11/site-packages (from pandas>=0.20.0->plotly_express) (2023.3.post1)\n",
      "Requirement already satisfied: tzdata>=2022.1 in /home/hrithik/anaconda3/lib/python3.11/site-packages (from pandas>=0.20.0->plotly_express) (2023.3)\n",
      "Requirement already satisfied: six in /home/hrithik/anaconda3/lib/python3.11/site-packages (from patsy>=0.5->plotly_express) (1.16.0)\n",
      "Requirement already satisfied: tenacity>=6.2.0 in /home/hrithik/anaconda3/lib/python3.11/site-packages (from plotly>=4.1.0->plotly_express) (8.2.2)\n",
      "Requirement already satisfied: packaging>=21.3 in /home/hrithik/anaconda3/lib/python3.11/site-packages (from statsmodels>=0.9.0->plotly_express) (23.1)\n",
      "Downloading plotly_express-0.4.1-py2.py3-none-any.whl (2.9 kB)\n",
      "Installing collected packages: plotly_express\n",
      "Successfully installed plotly_express-0.4.1\n"
     ]
    }
   ],
   "source": [
    "!pip install plotly_express"
   ]
  },
  {
   "cell_type": "code",
   "execution_count": 29,
   "metadata": {},
   "outputs": [],
   "source": [
    "dbt_df = pd.read_csv(\"../data/dbt_models_core_combined_categories.csv\")"
   ]
  },
  {
   "cell_type": "code",
   "execution_count": 42,
   "metadata": {},
   "outputs": [],
   "source": [
    "num_reviews = list(dbt_df['num_reviews'])"
   ]
  },
  {
   "cell_type": "code",
   "execution_count": 45,
   "metadata": {},
   "outputs": [
    {
     "data": {
      "text/plain": [
       "[3959, 2932, 2445, 1554, 1088, 1077, 697, 656, 522, 396]"
      ]
     },
     "execution_count": 45,
     "metadata": {},
     "output_type": "execute_result"
    }
   ],
   "source": [
    "num_reviews"
   ]
  },
  {
   "cell_type": "code",
   "execution_count": 50,
   "metadata": {},
   "outputs": [],
   "source": [
    "category = list(dbt_df['combined_category'])"
   ]
  },
  {
   "cell_type": "code",
   "execution_count": 51,
   "metadata": {},
   "outputs": [
    {
     "data": {
      "text/plain": [
       "['COMPUTERS',\n",
       " 'MOBILE & TABLETS',\n",
       " 'AUDIO',\n",
       " 'CAMERAS',\n",
       " 'COMPONENTS',\n",
       " 'SMART HOME',\n",
       " 'GAMING',\n",
       " 'PRINTERS',\n",
       " 'PROJECTORS',\n",
       " 'WEARABLES']"
      ]
     },
     "execution_count": 51,
     "metadata": {},
     "output_type": "execute_result"
    }
   ],
   "source": [
    "category"
   ]
  },
  {
   "cell_type": "code",
   "execution_count": 49,
   "metadata": {},
   "outputs": [
    {
     "data": {
      "application/vnd.plotly.v1+json": {
       "config": {
        "plotlyServerURL": "https://plot.ly"
       },
       "data": [
        {
         "fill": "toself",
         "r": [
          3959,
          2932,
          2445,
          1554,
          1088
         ],
         "theta": [
          "COMPUTERS",
          "MOBILE & TABLETS",
          "AUDIO",
          "CAMERAS",
          "COMPONENTS"
         ],
         "type": "scatterpolar"
        }
       ],
       "layout": {
        "polar": {
         "radialaxis": {
          "visible": true
         }
        },
        "showlegend": false,
        "template": {
         "data": {
          "bar": [
           {
            "error_x": {
             "color": "#2a3f5f"
            },
            "error_y": {
             "color": "#2a3f5f"
            },
            "marker": {
             "line": {
              "color": "#E5ECF6",
              "width": 0.5
             },
             "pattern": {
              "fillmode": "overlay",
              "size": 10,
              "solidity": 0.2
             }
            },
            "type": "bar"
           }
          ],
          "barpolar": [
           {
            "marker": {
             "line": {
              "color": "#E5ECF6",
              "width": 0.5
             },
             "pattern": {
              "fillmode": "overlay",
              "size": 10,
              "solidity": 0.2
             }
            },
            "type": "barpolar"
           }
          ],
          "carpet": [
           {
            "aaxis": {
             "endlinecolor": "#2a3f5f",
             "gridcolor": "white",
             "linecolor": "white",
             "minorgridcolor": "white",
             "startlinecolor": "#2a3f5f"
            },
            "baxis": {
             "endlinecolor": "#2a3f5f",
             "gridcolor": "white",
             "linecolor": "white",
             "minorgridcolor": "white",
             "startlinecolor": "#2a3f5f"
            },
            "type": "carpet"
           }
          ],
          "choropleth": [
           {
            "colorbar": {
             "outlinewidth": 0,
             "ticks": ""
            },
            "type": "choropleth"
           }
          ],
          "contour": [
           {
            "colorbar": {
             "outlinewidth": 0,
             "ticks": ""
            },
            "colorscale": [
             [
              0,
              "#0d0887"
             ],
             [
              0.1111111111111111,
              "#46039f"
             ],
             [
              0.2222222222222222,
              "#7201a8"
             ],
             [
              0.3333333333333333,
              "#9c179e"
             ],
             [
              0.4444444444444444,
              "#bd3786"
             ],
             [
              0.5555555555555556,
              "#d8576b"
             ],
             [
              0.6666666666666666,
              "#ed7953"
             ],
             [
              0.7777777777777778,
              "#fb9f3a"
             ],
             [
              0.8888888888888888,
              "#fdca26"
             ],
             [
              1,
              "#f0f921"
             ]
            ],
            "type": "contour"
           }
          ],
          "contourcarpet": [
           {
            "colorbar": {
             "outlinewidth": 0,
             "ticks": ""
            },
            "type": "contourcarpet"
           }
          ],
          "heatmap": [
           {
            "colorbar": {
             "outlinewidth": 0,
             "ticks": ""
            },
            "colorscale": [
             [
              0,
              "#0d0887"
             ],
             [
              0.1111111111111111,
              "#46039f"
             ],
             [
              0.2222222222222222,
              "#7201a8"
             ],
             [
              0.3333333333333333,
              "#9c179e"
             ],
             [
              0.4444444444444444,
              "#bd3786"
             ],
             [
              0.5555555555555556,
              "#d8576b"
             ],
             [
              0.6666666666666666,
              "#ed7953"
             ],
             [
              0.7777777777777778,
              "#fb9f3a"
             ],
             [
              0.8888888888888888,
              "#fdca26"
             ],
             [
              1,
              "#f0f921"
             ]
            ],
            "type": "heatmap"
           }
          ],
          "heatmapgl": [
           {
            "colorbar": {
             "outlinewidth": 0,
             "ticks": ""
            },
            "colorscale": [
             [
              0,
              "#0d0887"
             ],
             [
              0.1111111111111111,
              "#46039f"
             ],
             [
              0.2222222222222222,
              "#7201a8"
             ],
             [
              0.3333333333333333,
              "#9c179e"
             ],
             [
              0.4444444444444444,
              "#bd3786"
             ],
             [
              0.5555555555555556,
              "#d8576b"
             ],
             [
              0.6666666666666666,
              "#ed7953"
             ],
             [
              0.7777777777777778,
              "#fb9f3a"
             ],
             [
              0.8888888888888888,
              "#fdca26"
             ],
             [
              1,
              "#f0f921"
             ]
            ],
            "type": "heatmapgl"
           }
          ],
          "histogram": [
           {
            "marker": {
             "pattern": {
              "fillmode": "overlay",
              "size": 10,
              "solidity": 0.2
             }
            },
            "type": "histogram"
           }
          ],
          "histogram2d": [
           {
            "colorbar": {
             "outlinewidth": 0,
             "ticks": ""
            },
            "colorscale": [
             [
              0,
              "#0d0887"
             ],
             [
              0.1111111111111111,
              "#46039f"
             ],
             [
              0.2222222222222222,
              "#7201a8"
             ],
             [
              0.3333333333333333,
              "#9c179e"
             ],
             [
              0.4444444444444444,
              "#bd3786"
             ],
             [
              0.5555555555555556,
              "#d8576b"
             ],
             [
              0.6666666666666666,
              "#ed7953"
             ],
             [
              0.7777777777777778,
              "#fb9f3a"
             ],
             [
              0.8888888888888888,
              "#fdca26"
             ],
             [
              1,
              "#f0f921"
             ]
            ],
            "type": "histogram2d"
           }
          ],
          "histogram2dcontour": [
           {
            "colorbar": {
             "outlinewidth": 0,
             "ticks": ""
            },
            "colorscale": [
             [
              0,
              "#0d0887"
             ],
             [
              0.1111111111111111,
              "#46039f"
             ],
             [
              0.2222222222222222,
              "#7201a8"
             ],
             [
              0.3333333333333333,
              "#9c179e"
             ],
             [
              0.4444444444444444,
              "#bd3786"
             ],
             [
              0.5555555555555556,
              "#d8576b"
             ],
             [
              0.6666666666666666,
              "#ed7953"
             ],
             [
              0.7777777777777778,
              "#fb9f3a"
             ],
             [
              0.8888888888888888,
              "#fdca26"
             ],
             [
              1,
              "#f0f921"
             ]
            ],
            "type": "histogram2dcontour"
           }
          ],
          "mesh3d": [
           {
            "colorbar": {
             "outlinewidth": 0,
             "ticks": ""
            },
            "type": "mesh3d"
           }
          ],
          "parcoords": [
           {
            "line": {
             "colorbar": {
              "outlinewidth": 0,
              "ticks": ""
             }
            },
            "type": "parcoords"
           }
          ],
          "pie": [
           {
            "automargin": true,
            "type": "pie"
           }
          ],
          "scatter": [
           {
            "fillpattern": {
             "fillmode": "overlay",
             "size": 10,
             "solidity": 0.2
            },
            "type": "scatter"
           }
          ],
          "scatter3d": [
           {
            "line": {
             "colorbar": {
              "outlinewidth": 0,
              "ticks": ""
             }
            },
            "marker": {
             "colorbar": {
              "outlinewidth": 0,
              "ticks": ""
             }
            },
            "type": "scatter3d"
           }
          ],
          "scattercarpet": [
           {
            "marker": {
             "colorbar": {
              "outlinewidth": 0,
              "ticks": ""
             }
            },
            "type": "scattercarpet"
           }
          ],
          "scattergeo": [
           {
            "marker": {
             "colorbar": {
              "outlinewidth": 0,
              "ticks": ""
             }
            },
            "type": "scattergeo"
           }
          ],
          "scattergl": [
           {
            "marker": {
             "colorbar": {
              "outlinewidth": 0,
              "ticks": ""
             }
            },
            "type": "scattergl"
           }
          ],
          "scattermapbox": [
           {
            "marker": {
             "colorbar": {
              "outlinewidth": 0,
              "ticks": ""
             }
            },
            "type": "scattermapbox"
           }
          ],
          "scatterpolar": [
           {
            "marker": {
             "colorbar": {
              "outlinewidth": 0,
              "ticks": ""
             }
            },
            "type": "scatterpolar"
           }
          ],
          "scatterpolargl": [
           {
            "marker": {
             "colorbar": {
              "outlinewidth": 0,
              "ticks": ""
             }
            },
            "type": "scatterpolargl"
           }
          ],
          "scatterternary": [
           {
            "marker": {
             "colorbar": {
              "outlinewidth": 0,
              "ticks": ""
             }
            },
            "type": "scatterternary"
           }
          ],
          "surface": [
           {
            "colorbar": {
             "outlinewidth": 0,
             "ticks": ""
            },
            "colorscale": [
             [
              0,
              "#0d0887"
             ],
             [
              0.1111111111111111,
              "#46039f"
             ],
             [
              0.2222222222222222,
              "#7201a8"
             ],
             [
              0.3333333333333333,
              "#9c179e"
             ],
             [
              0.4444444444444444,
              "#bd3786"
             ],
             [
              0.5555555555555556,
              "#d8576b"
             ],
             [
              0.6666666666666666,
              "#ed7953"
             ],
             [
              0.7777777777777778,
              "#fb9f3a"
             ],
             [
              0.8888888888888888,
              "#fdca26"
             ],
             [
              1,
              "#f0f921"
             ]
            ],
            "type": "surface"
           }
          ],
          "table": [
           {
            "cells": {
             "fill": {
              "color": "#EBF0F8"
             },
             "line": {
              "color": "white"
             }
            },
            "header": {
             "fill": {
              "color": "#C8D4E3"
             },
             "line": {
              "color": "white"
             }
            },
            "type": "table"
           }
          ]
         },
         "layout": {
          "annotationdefaults": {
           "arrowcolor": "#2a3f5f",
           "arrowhead": 0,
           "arrowwidth": 1
          },
          "autotypenumbers": "strict",
          "coloraxis": {
           "colorbar": {
            "outlinewidth": 0,
            "ticks": ""
           }
          },
          "colorscale": {
           "diverging": [
            [
             0,
             "#8e0152"
            ],
            [
             0.1,
             "#c51b7d"
            ],
            [
             0.2,
             "#de77ae"
            ],
            [
             0.3,
             "#f1b6da"
            ],
            [
             0.4,
             "#fde0ef"
            ],
            [
             0.5,
             "#f7f7f7"
            ],
            [
             0.6,
             "#e6f5d0"
            ],
            [
             0.7,
             "#b8e186"
            ],
            [
             0.8,
             "#7fbc41"
            ],
            [
             0.9,
             "#4d9221"
            ],
            [
             1,
             "#276419"
            ]
           ],
           "sequential": [
            [
             0,
             "#0d0887"
            ],
            [
             0.1111111111111111,
             "#46039f"
            ],
            [
             0.2222222222222222,
             "#7201a8"
            ],
            [
             0.3333333333333333,
             "#9c179e"
            ],
            [
             0.4444444444444444,
             "#bd3786"
            ],
            [
             0.5555555555555556,
             "#d8576b"
            ],
            [
             0.6666666666666666,
             "#ed7953"
            ],
            [
             0.7777777777777778,
             "#fb9f3a"
            ],
            [
             0.8888888888888888,
             "#fdca26"
            ],
            [
             1,
             "#f0f921"
            ]
           ],
           "sequentialminus": [
            [
             0,
             "#0d0887"
            ],
            [
             0.1111111111111111,
             "#46039f"
            ],
            [
             0.2222222222222222,
             "#7201a8"
            ],
            [
             0.3333333333333333,
             "#9c179e"
            ],
            [
             0.4444444444444444,
             "#bd3786"
            ],
            [
             0.5555555555555556,
             "#d8576b"
            ],
            [
             0.6666666666666666,
             "#ed7953"
            ],
            [
             0.7777777777777778,
             "#fb9f3a"
            ],
            [
             0.8888888888888888,
             "#fdca26"
            ],
            [
             1,
             "#f0f921"
            ]
           ]
          },
          "colorway": [
           "#636efa",
           "#EF553B",
           "#00cc96",
           "#ab63fa",
           "#FFA15A",
           "#19d3f3",
           "#FF6692",
           "#B6E880",
           "#FF97FF",
           "#FECB52"
          ],
          "font": {
           "color": "#2a3f5f"
          },
          "geo": {
           "bgcolor": "white",
           "lakecolor": "white",
           "landcolor": "#E5ECF6",
           "showlakes": true,
           "showland": true,
           "subunitcolor": "white"
          },
          "hoverlabel": {
           "align": "left"
          },
          "hovermode": "closest",
          "mapbox": {
           "style": "light"
          },
          "paper_bgcolor": "white",
          "plot_bgcolor": "#E5ECF6",
          "polar": {
           "angularaxis": {
            "gridcolor": "white",
            "linecolor": "white",
            "ticks": ""
           },
           "bgcolor": "#E5ECF6",
           "radialaxis": {
            "gridcolor": "white",
            "linecolor": "white",
            "ticks": ""
           }
          },
          "scene": {
           "xaxis": {
            "backgroundcolor": "#E5ECF6",
            "gridcolor": "white",
            "gridwidth": 2,
            "linecolor": "white",
            "showbackground": true,
            "ticks": "",
            "zerolinecolor": "white"
           },
           "yaxis": {
            "backgroundcolor": "#E5ECF6",
            "gridcolor": "white",
            "gridwidth": 2,
            "linecolor": "white",
            "showbackground": true,
            "ticks": "",
            "zerolinecolor": "white"
           },
           "zaxis": {
            "backgroundcolor": "#E5ECF6",
            "gridcolor": "white",
            "gridwidth": 2,
            "linecolor": "white",
            "showbackground": true,
            "ticks": "",
            "zerolinecolor": "white"
           }
          },
          "shapedefaults": {
           "line": {
            "color": "#2a3f5f"
           }
          },
          "ternary": {
           "aaxis": {
            "gridcolor": "white",
            "linecolor": "white",
            "ticks": ""
           },
           "baxis": {
            "gridcolor": "white",
            "linecolor": "white",
            "ticks": ""
           },
           "bgcolor": "#E5ECF6",
           "caxis": {
            "gridcolor": "white",
            "linecolor": "white",
            "ticks": ""
           }
          },
          "title": {
           "x": 0.05
          },
          "xaxis": {
           "automargin": true,
           "gridcolor": "white",
           "linecolor": "white",
           "ticks": "",
           "title": {
            "standoff": 15
           },
           "zerolinecolor": "white",
           "zerolinewidth": 2
          },
          "yaxis": {
           "automargin": true,
           "gridcolor": "white",
           "linecolor": "white",
           "ticks": "",
           "title": {
            "standoff": 15
           },
           "zerolinecolor": "white",
           "zerolinewidth": 2
          }
         }
        }
       }
      },
      "text/html": [
       "<div>                            <div id=\"9aa38951-0949-4512-85c5-deef5274fc47\" class=\"plotly-graph-div\" style=\"height:525px; width:100%;\"></div>            <script type=\"text/javascript\">                require([\"plotly\"], function(Plotly) {                    window.PLOTLYENV=window.PLOTLYENV || {};                                    if (document.getElementById(\"9aa38951-0949-4512-85c5-deef5274fc47\")) {                    Plotly.newPlot(                        \"9aa38951-0949-4512-85c5-deef5274fc47\",                        [{\"fill\":\"toself\",\"r\":[3959,2932,2445,1554,1088],\"theta\":[\"COMPUTERS\",\"MOBILE & TABLETS\",\"AUDIO\",\"CAMERAS\",\"COMPONENTS\"],\"type\":\"scatterpolar\"}],                        {\"template\":{\"data\":{\"histogram2dcontour\":[{\"type\":\"histogram2dcontour\",\"colorbar\":{\"outlinewidth\":0,\"ticks\":\"\"},\"colorscale\":[[0.0,\"#0d0887\"],[0.1111111111111111,\"#46039f\"],[0.2222222222222222,\"#7201a8\"],[0.3333333333333333,\"#9c179e\"],[0.4444444444444444,\"#bd3786\"],[0.5555555555555556,\"#d8576b\"],[0.6666666666666666,\"#ed7953\"],[0.7777777777777778,\"#fb9f3a\"],[0.8888888888888888,\"#fdca26\"],[1.0,\"#f0f921\"]]}],\"choropleth\":[{\"type\":\"choropleth\",\"colorbar\":{\"outlinewidth\":0,\"ticks\":\"\"}}],\"histogram2d\":[{\"type\":\"histogram2d\",\"colorbar\":{\"outlinewidth\":0,\"ticks\":\"\"},\"colorscale\":[[0.0,\"#0d0887\"],[0.1111111111111111,\"#46039f\"],[0.2222222222222222,\"#7201a8\"],[0.3333333333333333,\"#9c179e\"],[0.4444444444444444,\"#bd3786\"],[0.5555555555555556,\"#d8576b\"],[0.6666666666666666,\"#ed7953\"],[0.7777777777777778,\"#fb9f3a\"],[0.8888888888888888,\"#fdca26\"],[1.0,\"#f0f921\"]]}],\"heatmap\":[{\"type\":\"heatmap\",\"colorbar\":{\"outlinewidth\":0,\"ticks\":\"\"},\"colorscale\":[[0.0,\"#0d0887\"],[0.1111111111111111,\"#46039f\"],[0.2222222222222222,\"#7201a8\"],[0.3333333333333333,\"#9c179e\"],[0.4444444444444444,\"#bd3786\"],[0.5555555555555556,\"#d8576b\"],[0.6666666666666666,\"#ed7953\"],[0.7777777777777778,\"#fb9f3a\"],[0.8888888888888888,\"#fdca26\"],[1.0,\"#f0f921\"]]}],\"heatmapgl\":[{\"type\":\"heatmapgl\",\"colorbar\":{\"outlinewidth\":0,\"ticks\":\"\"},\"colorscale\":[[0.0,\"#0d0887\"],[0.1111111111111111,\"#46039f\"],[0.2222222222222222,\"#7201a8\"],[0.3333333333333333,\"#9c179e\"],[0.4444444444444444,\"#bd3786\"],[0.5555555555555556,\"#d8576b\"],[0.6666666666666666,\"#ed7953\"],[0.7777777777777778,\"#fb9f3a\"],[0.8888888888888888,\"#fdca26\"],[1.0,\"#f0f921\"]]}],\"contourcarpet\":[{\"type\":\"contourcarpet\",\"colorbar\":{\"outlinewidth\":0,\"ticks\":\"\"}}],\"contour\":[{\"type\":\"contour\",\"colorbar\":{\"outlinewidth\":0,\"ticks\":\"\"},\"colorscale\":[[0.0,\"#0d0887\"],[0.1111111111111111,\"#46039f\"],[0.2222222222222222,\"#7201a8\"],[0.3333333333333333,\"#9c179e\"],[0.4444444444444444,\"#bd3786\"],[0.5555555555555556,\"#d8576b\"],[0.6666666666666666,\"#ed7953\"],[0.7777777777777778,\"#fb9f3a\"],[0.8888888888888888,\"#fdca26\"],[1.0,\"#f0f921\"]]}],\"surface\":[{\"type\":\"surface\",\"colorbar\":{\"outlinewidth\":0,\"ticks\":\"\"},\"colorscale\":[[0.0,\"#0d0887\"],[0.1111111111111111,\"#46039f\"],[0.2222222222222222,\"#7201a8\"],[0.3333333333333333,\"#9c179e\"],[0.4444444444444444,\"#bd3786\"],[0.5555555555555556,\"#d8576b\"],[0.6666666666666666,\"#ed7953\"],[0.7777777777777778,\"#fb9f3a\"],[0.8888888888888888,\"#fdca26\"],[1.0,\"#f0f921\"]]}],\"mesh3d\":[{\"type\":\"mesh3d\",\"colorbar\":{\"outlinewidth\":0,\"ticks\":\"\"}}],\"scatter\":[{\"fillpattern\":{\"fillmode\":\"overlay\",\"size\":10,\"solidity\":0.2},\"type\":\"scatter\"}],\"parcoords\":[{\"type\":\"parcoords\",\"line\":{\"colorbar\":{\"outlinewidth\":0,\"ticks\":\"\"}}}],\"scatterpolargl\":[{\"type\":\"scatterpolargl\",\"marker\":{\"colorbar\":{\"outlinewidth\":0,\"ticks\":\"\"}}}],\"bar\":[{\"error_x\":{\"color\":\"#2a3f5f\"},\"error_y\":{\"color\":\"#2a3f5f\"},\"marker\":{\"line\":{\"color\":\"#E5ECF6\",\"width\":0.5},\"pattern\":{\"fillmode\":\"overlay\",\"size\":10,\"solidity\":0.2}},\"type\":\"bar\"}],\"scattergeo\":[{\"type\":\"scattergeo\",\"marker\":{\"colorbar\":{\"outlinewidth\":0,\"ticks\":\"\"}}}],\"scatterpolar\":[{\"type\":\"scatterpolar\",\"marker\":{\"colorbar\":{\"outlinewidth\":0,\"ticks\":\"\"}}}],\"histogram\":[{\"marker\":{\"pattern\":{\"fillmode\":\"overlay\",\"size\":10,\"solidity\":0.2}},\"type\":\"histogram\"}],\"scattergl\":[{\"type\":\"scattergl\",\"marker\":{\"colorbar\":{\"outlinewidth\":0,\"ticks\":\"\"}}}],\"scatter3d\":[{\"type\":\"scatter3d\",\"line\":{\"colorbar\":{\"outlinewidth\":0,\"ticks\":\"\"}},\"marker\":{\"colorbar\":{\"outlinewidth\":0,\"ticks\":\"\"}}}],\"scattermapbox\":[{\"type\":\"scattermapbox\",\"marker\":{\"colorbar\":{\"outlinewidth\":0,\"ticks\":\"\"}}}],\"scatterternary\":[{\"type\":\"scatterternary\",\"marker\":{\"colorbar\":{\"outlinewidth\":0,\"ticks\":\"\"}}}],\"scattercarpet\":[{\"type\":\"scattercarpet\",\"marker\":{\"colorbar\":{\"outlinewidth\":0,\"ticks\":\"\"}}}],\"carpet\":[{\"aaxis\":{\"endlinecolor\":\"#2a3f5f\",\"gridcolor\":\"white\",\"linecolor\":\"white\",\"minorgridcolor\":\"white\",\"startlinecolor\":\"#2a3f5f\"},\"baxis\":{\"endlinecolor\":\"#2a3f5f\",\"gridcolor\":\"white\",\"linecolor\":\"white\",\"minorgridcolor\":\"white\",\"startlinecolor\":\"#2a3f5f\"},\"type\":\"carpet\"}],\"table\":[{\"cells\":{\"fill\":{\"color\":\"#EBF0F8\"},\"line\":{\"color\":\"white\"}},\"header\":{\"fill\":{\"color\":\"#C8D4E3\"},\"line\":{\"color\":\"white\"}},\"type\":\"table\"}],\"barpolar\":[{\"marker\":{\"line\":{\"color\":\"#E5ECF6\",\"width\":0.5},\"pattern\":{\"fillmode\":\"overlay\",\"size\":10,\"solidity\":0.2}},\"type\":\"barpolar\"}],\"pie\":[{\"automargin\":true,\"type\":\"pie\"}]},\"layout\":{\"autotypenumbers\":\"strict\",\"colorway\":[\"#636efa\",\"#EF553B\",\"#00cc96\",\"#ab63fa\",\"#FFA15A\",\"#19d3f3\",\"#FF6692\",\"#B6E880\",\"#FF97FF\",\"#FECB52\"],\"font\":{\"color\":\"#2a3f5f\"},\"hovermode\":\"closest\",\"hoverlabel\":{\"align\":\"left\"},\"paper_bgcolor\":\"white\",\"plot_bgcolor\":\"#E5ECF6\",\"polar\":{\"bgcolor\":\"#E5ECF6\",\"angularaxis\":{\"gridcolor\":\"white\",\"linecolor\":\"white\",\"ticks\":\"\"},\"radialaxis\":{\"gridcolor\":\"white\",\"linecolor\":\"white\",\"ticks\":\"\"}},\"ternary\":{\"bgcolor\":\"#E5ECF6\",\"aaxis\":{\"gridcolor\":\"white\",\"linecolor\":\"white\",\"ticks\":\"\"},\"baxis\":{\"gridcolor\":\"white\",\"linecolor\":\"white\",\"ticks\":\"\"},\"caxis\":{\"gridcolor\":\"white\",\"linecolor\":\"white\",\"ticks\":\"\"}},\"coloraxis\":{\"colorbar\":{\"outlinewidth\":0,\"ticks\":\"\"}},\"colorscale\":{\"sequential\":[[0.0,\"#0d0887\"],[0.1111111111111111,\"#46039f\"],[0.2222222222222222,\"#7201a8\"],[0.3333333333333333,\"#9c179e\"],[0.4444444444444444,\"#bd3786\"],[0.5555555555555556,\"#d8576b\"],[0.6666666666666666,\"#ed7953\"],[0.7777777777777778,\"#fb9f3a\"],[0.8888888888888888,\"#fdca26\"],[1.0,\"#f0f921\"]],\"sequentialminus\":[[0.0,\"#0d0887\"],[0.1111111111111111,\"#46039f\"],[0.2222222222222222,\"#7201a8\"],[0.3333333333333333,\"#9c179e\"],[0.4444444444444444,\"#bd3786\"],[0.5555555555555556,\"#d8576b\"],[0.6666666666666666,\"#ed7953\"],[0.7777777777777778,\"#fb9f3a\"],[0.8888888888888888,\"#fdca26\"],[1.0,\"#f0f921\"]],\"diverging\":[[0,\"#8e0152\"],[0.1,\"#c51b7d\"],[0.2,\"#de77ae\"],[0.3,\"#f1b6da\"],[0.4,\"#fde0ef\"],[0.5,\"#f7f7f7\"],[0.6,\"#e6f5d0\"],[0.7,\"#b8e186\"],[0.8,\"#7fbc41\"],[0.9,\"#4d9221\"],[1,\"#276419\"]]},\"xaxis\":{\"gridcolor\":\"white\",\"linecolor\":\"white\",\"ticks\":\"\",\"title\":{\"standoff\":15},\"zerolinecolor\":\"white\",\"automargin\":true,\"zerolinewidth\":2},\"yaxis\":{\"gridcolor\":\"white\",\"linecolor\":\"white\",\"ticks\":\"\",\"title\":{\"standoff\":15},\"zerolinecolor\":\"white\",\"automargin\":true,\"zerolinewidth\":2},\"scene\":{\"xaxis\":{\"backgroundcolor\":\"#E5ECF6\",\"gridcolor\":\"white\",\"linecolor\":\"white\",\"showbackground\":true,\"ticks\":\"\",\"zerolinecolor\":\"white\",\"gridwidth\":2},\"yaxis\":{\"backgroundcolor\":\"#E5ECF6\",\"gridcolor\":\"white\",\"linecolor\":\"white\",\"showbackground\":true,\"ticks\":\"\",\"zerolinecolor\":\"white\",\"gridwidth\":2},\"zaxis\":{\"backgroundcolor\":\"#E5ECF6\",\"gridcolor\":\"white\",\"linecolor\":\"white\",\"showbackground\":true,\"ticks\":\"\",\"zerolinecolor\":\"white\",\"gridwidth\":2}},\"shapedefaults\":{\"line\":{\"color\":\"#2a3f5f\"}},\"annotationdefaults\":{\"arrowcolor\":\"#2a3f5f\",\"arrowhead\":0,\"arrowwidth\":1},\"geo\":{\"bgcolor\":\"white\",\"landcolor\":\"#E5ECF6\",\"subunitcolor\":\"white\",\"showland\":true,\"showlakes\":true,\"lakecolor\":\"white\"},\"title\":{\"x\":0.05},\"mapbox\":{\"style\":\"light\"}}},\"polar\":{\"radialaxis\":{\"visible\":true}},\"showlegend\":false},                        {\"responsive\": true}                    ).then(function(){\n",
       "                            \n",
       "var gd = document.getElementById('9aa38951-0949-4512-85c5-deef5274fc47');\n",
       "var x = new MutationObserver(function (mutations, observer) {{\n",
       "        var display = window.getComputedStyle(gd).display;\n",
       "        if (!display || display === 'none') {{\n",
       "            console.log([gd, 'removed!']);\n",
       "            Plotly.purge(gd);\n",
       "            observer.disconnect();\n",
       "        }}\n",
       "}});\n",
       "\n",
       "// Listen for the removal of the full notebook cells\n",
       "var notebookContainer = gd.closest('#notebook-container');\n",
       "if (notebookContainer) {{\n",
       "    x.observe(notebookContainer, {childList: true});\n",
       "}}\n",
       "\n",
       "// Listen for the clearing of the current output cell\n",
       "var outputEl = gd.closest('.output');\n",
       "if (outputEl) {{\n",
       "    x.observe(outputEl, {childList: true});\n",
       "}}\n",
       "\n",
       "                        })                };                });            </script>        </div>"
      ]
     },
     "metadata": {},
     "output_type": "display_data"
    }
   ],
   "source": [
    "import plotly.graph_objects as go\n",
    "\n",
    "fig = go.Figure(data=go.Scatterpolar(\n",
    "  r=[3959, 2932, 2445, 1554, 1088],\n",
    "  theta=['COMPUTERS',\n",
    " 'MOBILE & TABLETS',\n",
    " 'AUDIO',\n",
    " 'CAMERAS',\n",
    " 'COMPONENTS'],\n",
    "  fill='toself'\n",
    "))\n",
    "\n",
    "fig.update_layout(\n",
    "  polar=dict(\n",
    "    radialaxis=dict(\n",
    "      visible=True\n",
    "    ),\n",
    "  ),\n",
    "  showlegend=False\n",
    ")\n",
    "\n",
    "fig.show()"
   ]
  }
 ],
 "metadata": {
  "kernelspec": {
   "display_name": "base",
   "language": "python",
   "name": "python3"
  },
  "language_info": {
   "codemirror_mode": {
    "name": "ipython",
    "version": 3
   },
   "file_extension": ".py",
   "mimetype": "text/x-python",
   "name": "python",
   "nbconvert_exporter": "python",
   "pygments_lexer": "ipython3",
   "version": "3.11.7"
  }
 },
 "nbformat": 4,
 "nbformat_minor": 2
}
